{
 "cells": [
  {
   "cell_type": "code",
   "execution_count": 1,
   "metadata": {},
   "outputs": [],
   "source": [
    "import requests\n",
    "import json\n",
    "import pandas as pd\n",
    "import numpy as np\n",
    "from time import sleep\n",
    "from datetime import datetime, timezone\n",
    "from datetime import time\n",
    "\n",
    "import matplotlib.pyplot as plt\n",
    "import matplotlib\n",
    "from matplotlib.ticker import MaxNLocator\n",
    "\n",
    "from utils import get_block_number_from_timestamp"
   ]
  },
  {
   "cell_type": "code",
   "execution_count": 2,
   "metadata": {},
   "outputs": [
    {
     "name": "stdout",
     "output_type": "stream",
     "text": [
      "Origin date fetch (UTC): 2022-08-16 00:00:00\n",
      "---------------------------------------\n",
      "Last date fetch (UTC): 2022-08-17 00:00:00\n"
     ]
    }
   ],
   "source": [
    "df_timestamp_block_origin = pd.read_csv('./daily_data/timestamp_block.csv')\n",
    "print(\"Origin date fetch (UTC):\", datetime.utcfromtimestamp(df_timestamp_block_origin['timestamp'].iloc[-1]))\n",
    "print(\"---------------------------------------\")\n",
    "\n",
    "origin_timestamp = df_timestamp_block_origin['timestamp'].iloc[-1]\n",
    "dt = datetime.now()\n",
    "last_timestamp = int(datetime(\n",
    "    year=dt.year, month=dt.month, day=dt.day, \n",
    "    hour=0, minute=0, second=0, microsecond=0, \n",
    "    tzinfo=timezone.utc\n",
    ").timestamp())\n",
    "\n",
    "interval = 86400 # 1 day\n",
    "df_timestamp_block = df_timestamp_block_origin\n",
    "\n",
    "for timestamp in range(origin_timestamp, last_timestamp+1, interval):\n",
    "    block = get_block_number_from_timestamp(timestamp)\n",
    "    values = [{\n",
    "        \"timestamp\": timestamp,\n",
    "        \"block\": block\n",
    "    }]\n",
    "    df_timestamp_block = df_timestamp_block.append(values)\n",
    "    sleep(0.25)\n",
    "\n",
    "# not sure why got many duplicated, just use drop\n",
    "df_timestamp_block.drop_duplicates(keep='first', inplace=True) \n",
    "\n",
    "# save\n",
    "df_timestamp_block.reset_index(inplace = True, drop = True)\n",
    "df_timestamp_block.to_csv('./daily_data/timestamp_block.csv', index=False)\n",
    "\n",
    "print(\"Last date fetch (UTC):\", datetime.utcfromtimestamp(df_timestamp_block['timestamp'].iloc[-1]))"
   ]
  },
  {
   "cell_type": "code",
   "execution_count": 15,
   "metadata": {},
   "outputs": [],
   "source": [
    "df_fres =  pd.read_csv('./daily_data/new_subgraph/fres.csv')\n",
    "\n",
    "base_url = \"https://v4.subgraph.polygon.oceanprotocol.com\"\n",
    "route = \"/subgraphs/name/oceanprotocol/ocean-subgraph\"\n",
    "url = base_url + route\n",
    "query = \\\n",
    "f\"\"\"\n",
    "{{fixedRateExchanges(\n",
    "    first: 1000, \n",
    "    # block: {{number: 30077156}}\n",
    "    ) \n",
    "    {{\n",
    "    active\n",
    "    datatokenBalance\n",
    "    price\n",
    "    totalSwapValue\n",
    "    datatoken {{\n",
    "      cap\n",
    "      holderCount\n",
    "      orderCount\n",
    "      symbol\n",
    "      name\n",
    "      publishMarketFeeAmount\n",
    "      nft {{\n",
    "        name\n",
    "        transferable\n",
    "        symbol\n",
    "        owner\n",
    "      }}\n",
    "      address\n",
    "    }}\n",
    "    \n",
    "  }}}}\n",
    "    \"\"\"\n",
    "headers = {\"Content-Type\": \"application/json\"}\n",
    "payload = json.dumps({\"query\": query})\n",
    "response = requests.request(\"POST\", url, headers=headers, data=payload)\n",
    "\n",
    "data = json.loads(response.text)\n",
    "df_data = pd.json_normalize(data['data']['fixedRateExchanges'])\n",
    "\n",
    "dt = datetime.now()\n",
    "now_timestamp = int(datetime(\n",
    "    year=dt.year, month=dt.month, day=dt.day, \n",
    "    hour=dt.hour, minute=dt.minute, second=dt.second, microsecond=0, \n",
    "    tzinfo=timezone.utc\n",
    ").timestamp())\n",
    "df_data[\"timestamp\"] = now_timestamp\n",
    "\n",
    "df_fres = pd.concat([df_fres, df_data], ignore_index=True, sort=False)\n",
    "# df_fres = df_data\n",
    "\n",
    "df_fres.drop_duplicates(keep='first', inplace=True,subset=['datatoken.symbol', 'datatoken.name','timestamp'])\n",
    "df_fres.reset_index(inplace = True, drop = True)\n",
    "# df_fres.to_csv('./daily_data/new_subgraph/fres.csv', index=False)"
   ]
  },
  {
   "cell_type": "code",
   "execution_count": 7,
   "metadata": {},
   "outputs": [
    {
     "data": {
      "image/png": "[encoded data removed]",
      "text/plain": [
       "<Figure size 864x486 with 1 Axes>"
      ]
     },
     "metadata": {
      "needs_background": "light"
     },
     "output_type": "display_data"
    }
   ],
   "source": [
    "x = []\n",
    "y = []\n",
    "for timestamp in df_fres['timestamp'].unique():\n",
    "    dt = datetime.utcfromtimestamp(timestamp).strftime('%Y-%m-%d')\n",
    "    total_orderCount = df_fres.loc[df_fres['timestamp'] == timestamp]['datatoken.orderCount'].astype(int).sum()\n",
    "    x.append(dt)\n",
    "    y.append(total_orderCount)\n",
    "fig, ax = plt.subplots()\n",
    "\n",
    "plt.plot(x,y)\n",
    "plt.xlabel(\"Day\", fontsize=20)\n",
    "plt.ylabel(\"No. tokens\", fontsize=20)\n",
    "plt.title(f\"Total orders count, all datatoken\", fontsize=20)\n",
    "plt.xticks(rotation=30)\n",
    "# plt.legend(fontsize=10)\n",
    "\n",
    "ax.tick_params(axis='x',rotation=30)\n",
    "fig = matplotlib.pyplot.gcf()\n",
    "fig.set_size_inches(12, 6.75)\n",
    "\n",
    "# show integer only\n",
    "ax.yaxis.set_major_locator(MaxNLocator(integer=True))\n"
   ]
  },
  {
   "cell_type": "code",
   "execution_count": 31,
   "metadata": {},
   "outputs": [],
   "source": [
    "datatokens_with_dcv_symbol = [] # array of datatokens with volume\n",
    "# TODO: replace with dataframe which has 2 columns: y.iloc[-1] and symbol to sort by latest volume (y.iloc[-1])\n",
    "for symbol in df_fres['datatoken.symbol'].unique():\n",
    "    _df = df_fres.loc[df_fres['datatoken.symbol'] == symbol]\n",
    "    # x = pd.to_datetime(_df[\"timestamp\"], unit='s').dt.strftime('%Y-%m-%d')\n",
    "    y = _df['datatoken.orderCount'].astype(float)\n",
    "    if y.iloc[-1]:\n",
    "        # plt.plot(x,y)\n",
    "        # datatokens_with_dcv += 1\n",
    "        datatokens_with_dcv_symbol.append(symbol)\n",
    "    \n",
    "\n",
    "# df_fres.head()"
   ]
  },
  {
   "cell_type": "code",
   "execution_count": 40,
   "metadata": {},
   "outputs": [
    {
     "name": "stdout",
     "output_type": "stream",
     "text": [
      "Out of total 91 datatoken, 30 has sale volume out\n"
     ]
    }
   ],
   "source": [
    "print(f'Out of total {len(df_fres[\"datatoken.symbol\"].unique())} datatoken, {(len(datatokens_with_dcv_symbol))} has sale volume out')"
   ]
  }
 ],
 "metadata": {
  "kernelspec": {
   "display_name": "Python 3.8.12 ('gvenv38')",
   "language": "python",
   "name": "python3"
  },
  "language_info": {
   "codemirror_mode": {
    "name": "ipython",
    "version": 3
   },
   "file_extension": ".py",
   "mimetype": "text/x-python",
   "name": "python",
   "nbconvert_exporter": "python",
   "pygments_lexer": "ipython3",
   "version": "3.8.12"
  },
  "orig_nbformat": 4,
  "vscode": {
   "interpreter": {
    "hash": "970acef40c1cea8404bbe3e09e936d7a989a1d41ad865e5e2a1187d71ab40b37"
   }
  }
 },
 "nbformat": 4,
 "nbformat_minor": 2
}
