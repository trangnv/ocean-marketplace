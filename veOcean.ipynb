{
 "cells": [
  {
   "cell_type": "code",
   "execution_count": 1,
   "metadata": {},
   "outputs": [],
   "source": [
    "import utils\n",
    "import pandas as pd\n",
    "from datetime import datetime"
   ]
  },
  {
   "cell_type": "code",
   "execution_count": 2,
   "metadata": {},
   "outputs": [
    {
     "data": {
      "text/html": [
       "<div>\n",
       "<style scoped>\n",
       "    .dataframe tbody tr th:only-of-type {\n",
       "        vertical-align: middle;\n",
       "    }\n",
       "\n",
       "    .dataframe tbody tr th {\n",
       "        vertical-align: top;\n",
       "    }\n",
       "\n",
       "    .dataframe thead th {\n",
       "        text-align: right;\n",
       "    }\n",
       "</style>\n",
       "<table border=\"1\" class=\"dataframe\">\n",
       "  <thead>\n",
       "    <tr style=\"text-align: right;\">\n",
       "      <th></th>\n",
       "      <th>LP_addr</th>\n",
       "      <th>balance</th>\n",
       "    </tr>\n",
       "  </thead>\n",
       "  <tbody>\n",
       "    <tr>\n",
       "      <th>0</th>\n",
       "      <td>0xd13294fa603d9243fb9aeff338a5639ee1bd6599</td>\n",
       "      <td>54789.179258</td>\n",
       "    </tr>\n",
       "    <tr>\n",
       "      <th>1</th>\n",
       "      <td>0x9da423a15a87e145d9daef73f30a710cb4106bd2</td>\n",
       "      <td>1.874849</td>\n",
       "    </tr>\n",
       "    <tr>\n",
       "      <th>2</th>\n",
       "      <td>0x002570980aa53893c6981765698b6ebab8ae7ea1</td>\n",
       "      <td>125740.221677</td>\n",
       "    </tr>\n",
       "    <tr>\n",
       "      <th>3</th>\n",
       "      <td>0x126bc064dbd1d0205fc608c3178a60c9706b482c</td>\n",
       "      <td>839.110057</td>\n",
       "    </tr>\n",
       "    <tr>\n",
       "      <th>4</th>\n",
       "      <td>0x26e4674c09cbbf0b367aae65d8d08b112e307a53</td>\n",
       "      <td>486097.716974</td>\n",
       "    </tr>\n",
       "    <tr>\n",
       "      <th>...</th>\n",
       "      <td>...</td>\n",
       "      <td>...</td>\n",
       "    </tr>\n",
       "    <tr>\n",
       "      <th>71</th>\n",
       "      <td>0x76618e298f5b5f43c254dcc863cef16cf89d4f0a</td>\n",
       "      <td>12412.665153</td>\n",
       "    </tr>\n",
       "    <tr>\n",
       "      <th>72</th>\n",
       "      <td>0xd1fba4e426b85dc4256a991af3c7808e69689e3b</td>\n",
       "      <td>9418.332626</td>\n",
       "    </tr>\n",
       "    <tr>\n",
       "      <th>73</th>\n",
       "      <td>0x15558eb2aeb93ed561515a47441bf49250933ba9</td>\n",
       "      <td>498415.338819</td>\n",
       "    </tr>\n",
       "    <tr>\n",
       "      <th>74</th>\n",
       "      <td>0xdd9743f6723fc1467d1ea48ba6bdb9a685b83c0b</td>\n",
       "      <td>2517.993276</td>\n",
       "    </tr>\n",
       "    <tr>\n",
       "      <th>75</th>\n",
       "      <td>0x64b0012681110fc8aa09f9e0eb29f64ec3010594</td>\n",
       "      <td>6211.396896</td>\n",
       "    </tr>\n",
       "  </tbody>\n",
       "</table>\n",
       "<p>76 rows × 2 columns</p>\n",
       "</div>"
      ],
      "text/plain": [
       "                                       LP_addr        balance\n",
       "0   0xd13294fa603d9243fb9aeff338a5639ee1bd6599   54789.179258\n",
       "1   0x9da423a15a87e145d9daef73f30a710cb4106bd2       1.874849\n",
       "2   0x002570980aa53893c6981765698b6ebab8ae7ea1  125740.221677\n",
       "3   0x126bc064dbd1d0205fc608c3178a60c9706b482c     839.110057\n",
       "4   0x26e4674c09cbbf0b367aae65d8d08b112e307a53  486097.716974\n",
       "..                                         ...            ...\n",
       "71  0x76618e298f5b5f43c254dcc863cef16cf89d4f0a   12412.665153\n",
       "72  0xd1fba4e426b85dc4256a991af3c7808e69689e3b    9418.332626\n",
       "73  0x15558eb2aeb93ed561515a47441bf49250933ba9  498415.338819\n",
       "74  0xdd9743f6723fc1467d1ea48ba6bdb9a685b83c0b    2517.993276\n",
       "75  0x64b0012681110fc8aa09f9e0eb29f64ec3010594    6211.396896\n",
       "\n",
       "[76 rows x 2 columns]"
      ]
     },
     "execution_count": 2,
     "metadata": {},
     "output_type": "execute_result"
    }
   ],
   "source": [
    "df = pd.read_csv(\"queried_data/ve/vebals.csv\")\n",
    "df\n"
   ]
  },
  {
   "cell_type": "code",
   "execution_count": 4,
   "metadata": {},
   "outputs": [
    {
     "data": {
      "text/plain": [
       "2320868.8050857894"
      ]
     },
     "execution_count": 4,
     "metadata": {},
     "output_type": "execute_result"
    }
   ],
   "source": [
    "df.balance.sum()"
   ]
  },
  {
   "cell_type": "code",
   "execution_count": 3,
   "metadata": {},
   "outputs": [
    {
     "data": {
      "text/plain": [
       "3080212.381730355"
      ]
     },
     "execution_count": 3,
     "metadata": {},
     "output_type": "execute_result"
    }
   ],
   "source": [
    "df.balance.sum()"
   ]
  },
  {
   "cell_type": "code",
   "execution_count": 3,
   "metadata": {},
   "outputs": [
    {
     "data": {
      "text/plain": [
       "3782930.5665977895"
      ]
     },
     "execution_count": 3,
     "metadata": {},
     "output_type": "execute_result"
    }
   ],
   "source": [
    "df.balance.sum()"
   ]
  }
 ],
 "metadata": {
  "kernelspec": {
   "display_name": "Python 3.8.12 ('gvenv38')",
   "language": "python",
   "name": "python3"
  },
  "language_info": {
   "codemirror_mode": {
    "name": "ipython",
    "version": 3
   },
   "file_extension": ".py",
   "mimetype": "text/x-python",
   "name": "python",
   "nbconvert_exporter": "python",
   "pygments_lexer": "ipython3",
   "version": "3.8.12"
  },
  "orig_nbformat": 4,
  "vscode": {
   "interpreter": {
    "hash": "970acef40c1cea8404bbe3e09e936d7a989a1d41ad865e5e2a1187d71ab40b37"
   }
  }
 },
 "nbformat": 4,
 "nbformat_minor": 2
}
