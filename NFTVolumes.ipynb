{
 "cells": [
  {
   "cell_type": "code",
   "execution_count": 1,
   "metadata": {},
   "outputs": [],
   "source": [
    "import json\n",
    "from typing import Any, Dict, List, Tuple"
   ]
  },
  {
   "cell_type": "code",
   "execution_count": 2,
   "metadata": {},
   "outputs": [],
   "source": [
    "import utils"
   ]
  },
  {
   "cell_type": "code",
   "execution_count": 3,
   "metadata": {},
   "outputs": [
    {
     "name": "stdout",
     "output_type": "stream",
     "text": [
      "getVolumes(): begin\n",
      "getVolumes(): done\n"
     ]
    }
   ],
   "source": [
    "s = utils.getNFTVolumes(30931584,32993741, 137)"
   ]
  },
  {
   "cell_type": "code",
   "execution_count": 4,
   "metadata": {},
   "outputs": [
    {
     "name": "stdout",
     "output_type": "stream",
     "text": [
      "Created s.csv\n"
     ]
    }
   ],
   "source": [
    "utils.saveNFTvolsCsv(s[0], \"s.csv\", 137)\n",
    "\n",
    "# to add two more columns: timestamp and block"
   ]
  },
  {
   "cell_type": "code",
   "execution_count": 4,
   "metadata": {},
   "outputs": [
    {
     "data": {
      "text/plain": [
       "dict_keys(['0x282d8efce846a88b159800bd4130ad77443fa1a1'])"
      ]
     },
     "execution_count": 4,
     "metadata": {},
     "output_type": "execute_result"
    }
   ],
   "source": [
    "s[0].keys()"
   ]
  },
  {
   "cell_type": "code",
   "execution_count": 6,
   "metadata": {},
   "outputs": [
    {
     "data": {
      "text/plain": [
       "dict_items([('0xa798fc8fa08c120e545a1c639ebe2506ba282961', 5.0), ('0x30d1b625663e0da48379bf8ae53455a57d406011', 5.0), ('0x546f3b8ad5dd18ed77820718cec56b26b8753a6c', 5.0), ('0x70f1d5a5cf3e2a70a2169efd945cdd63e55d7b24', 1.0), ('0x0e122f7d453e983ef0233af4e2af4cb053e5f075', 49.0), ('0x7f0050fa5bdfe9388e705f56dfd79f113da1bd9a', 10.0), ('0x03894e05af1257714d1e06a01452d157e3a82202', 5.0), ('0x434a20a2888da5f9cc7e99f94fc022220c3e648a', 5.0), ('0xfe7f1a646773c4056fc7b7a847ce4034228462d4', 5.0)])"
      ]
     },
     "execution_count": 6,
     "metadata": {},
     "output_type": "execute_result"
    }
   ],
   "source": [
    "d = s[0]\n",
    "basetoken_addr = \"0x282d8efce846a88b159800bd4130ad77443fa1a1\"\n",
    "d[basetoken_addr].items()\n",
    "# d"
   ]
  },
  {
   "cell_type": "code",
   "execution_count": 12,
   "metadata": {},
   "outputs": [
    {
     "data": {
      "text/plain": [
       "'0x282d8efce846a88b159800bd4130ad77443fa1a1'"
      ]
     },
     "execution_count": 12,
     "metadata": {},
     "output_type": "execute_result"
    }
   ],
   "source": [
    "type(s[1][0])\n",
    "datanft1 = s[1][0]\n",
    "\n",
    "datanft1.basetoken_addr"
   ]
  }
 ],
 "metadata": {
  "kernelspec": {
   "display_name": "Python 3.8.12 ('gvenv38')",
   "language": "python",
   "name": "python3"
  },
  "language_info": {
   "codemirror_mode": {
    "name": "ipython",
    "version": 3
   },
   "file_extension": ".py",
   "mimetype": "text/x-python",
   "name": "python",
   "nbconvert_exporter": "python",
   "pygments_lexer": "ipython3",
   "version": "3.8.12"
  },
  "orig_nbformat": 4,
  "vscode": {
   "interpreter": {
    "hash": "970acef40c1cea8404bbe3e09e936d7a989a1d41ad865e5e2a1187d71ab40b37"
   }
  }
 },
 "nbformat": 4,
 "nbformat_minor": 2
}
