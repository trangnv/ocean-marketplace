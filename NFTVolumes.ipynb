{
 "cells": [
  {
   "cell_type": "code",
   "execution_count": 1,
   "metadata": {},
   "outputs": [],
   "source": [
    "import utils\n",
    "import pandas as pd\n",
    "from datetime import datetime"
   ]
  },
  {
   "cell_type": "code",
   "execution_count": 4,
   "metadata": {},
   "outputs": [
    {
     "name": "stdout",
     "output_type": "stream",
     "text": [
      "Last queried block: 32523731, 2022-09-01 00:00:00\n",
      "Current block: 33252013, 2022-09-18 14:30:51\n"
     ]
    }
   ],
   "source": [
    "df_queried = pd.read_csv(\"queried_data/NFTVolumes.csv\")\n",
    "\n",
    "last_queried_timestamp = df_queried.iloc[-1, df_queried.columns.get_loc('timestamp')]\n",
    "last_queried_block = utils.get_block_number_from_timestamp(last_queried_timestamp, 137)\n",
    "print(f\"Last queried block: {last_queried_block}, {datetime.fromtimestamp(last_queried_timestamp).strftime('%Y-%m-%d %H:%M:%S')}\")\n",
    "\n",
    "current_timestamp = utils.get_current_timestamp()\n",
    "current_block = utils.get_block_number_from_timestamp(current_timestamp, 137)\n",
    "print(f\"Current block: {current_block}, {datetime.fromtimestamp(current_timestamp).strftime('%Y-%m-%d %H:%M:%S')}\")"
   ]
  },
  {
   "cell_type": "markdown",
   "metadata": {},
   "source": [
    "Query new data, append to csv file"
   ]
  },
  {
   "cell_type": "code",
   "execution_count": 5,
   "metadata": {},
   "outputs": [
    {
     "name": "stdout",
     "output_type": "stream",
     "text": [
      "getVolumes(): begin\n",
      "getVolumes(): done\n",
      "Updated queried_data/NFTVolumes.csv\n"
     ]
    }
   ],
   "source": [
    "getter = utils.getNFTVolumes(last_queried_block, current_block, 137)\n",
    "utils.saveNFTvolsCsv(getter[0], \"queried_data/NFTVolumes.csv\", 137)"
   ]
  }
 ],
 "metadata": {
  "kernelspec": {
   "display_name": "Python 3.8.12 ('gvenv38')",
   "language": "python",
   "name": "python3"
  },
  "language_info": {
   "codemirror_mode": {
    "name": "ipython",
    "version": 3
   },
   "file_extension": ".py",
   "mimetype": "text/x-python",
   "name": "python",
   "nbconvert_exporter": "python",
   "pygments_lexer": "ipython3",
   "version": "3.8.12"
  },
  "orig_nbformat": 4,
  "vscode": {
   "interpreter": {
    "hash": "970acef40c1cea8404bbe3e09e936d7a989a1d41ad865e5e2a1187d71ab40b37"
   }
  }
 },
 "nbformat": 4,
 "nbformat_minor": 2
}
