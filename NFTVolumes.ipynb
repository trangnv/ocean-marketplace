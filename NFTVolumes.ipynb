{
 "cells": [
  {
   "cell_type": "code",
   "execution_count": 1,
   "metadata": {},
   "outputs": [],
   "source": [
    "import json\n",
    "from typing import Any, Dict, List, Tuple"
   ]
  },
  {
   "cell_type": "code",
   "execution_count": 2,
   "metadata": {},
   "outputs": [],
   "source": [
    "import utils"
   ]
  },
  {
   "cell_type": "code",
   "execution_count": 3,
   "metadata": {},
   "outputs": [
    {
     "name": "stdout",
     "output_type": "stream",
     "text": [
      "getVolumes(): begin\n",
      "getVolumes(): done\n"
     ]
    },
    {
     "data": {
      "text/plain": [
       "({'0x282d8efce846a88b159800bd4130ad77443fa1a1': {'0xa798fc8fa08c120e545a1c639ebe2506ba282961': 5.0,\n",
       "   '0x30d1b625663e0da48379bf8ae53455a57d406011': 5.0,\n",
       "   '0x4502f12c1b3c304ac3a7dae71e1b091d139a7e73': 5.0,\n",
       "   '0x03894e05af1257714d1e06a01452d157e3a82202': 10.0,\n",
       "   '0x546f3b8ad5dd18ed77820718cec56b26b8753a6c': 5.0,\n",
       "   '0x70f1d5a5cf3e2a70a2169efd945cdd63e55d7b24': 2.0,\n",
       "   '0x0e122f7d453e983ef0233af4e2af4cb053e5f075': 49.0,\n",
       "   '0xfe7f1a646773c4056fc7b7a847ce4034228462d4': 10.0,\n",
       "   '0x253ca313da088b70dcfeb20fe0533745a3fefc8a': 5.0,\n",
       "   '0x7f0050fa5bdfe9388e705f56dfd79f113da1bd9a': 10.0,\n",
       "   '0x2d8e318e7052b36e322781c68c835ed0a6c23a11': 5.0,\n",
       "   '0x434a20a2888da5f9cc7e99f94fc022220c3e648a': 5.0,\n",
       "   '0x3ff48c6bec9824939bd4e219c8ef52b8a49821a7': 5.0,\n",
       "   '0x8d86a9098e2f898552cf8bd9608c6cb80688a3d7': 1.0,\n",
       "   '0x8c57f836afc4a5fda8dd2fce53f3afe2440e3203': 5.0},\n",
       "  '0x2791bca1f2de4661ed88a30c99a7a9449aa84174': {'0x6397829f2e9d997960fb4286531f6c8cf07a19c7': 5.0,\n",
       "   '0x65f219fcf8c2de378f673981d2954c9eed970c61': 2.0,\n",
       "   '0xc95c557a7580632721c3147776693bc5e724900e': 1.0,\n",
       "   '0x766055a3512570feae50b67521df0bc71a526792': 4.0,\n",
       "   '0xaf38ed64141ee82b5e75aa40fc84e465ae7235ff': 1.0,\n",
       "   '0x105c9b7ebfff29ebcef3ebaef44c3d86a1b3e0c0': 1.0,\n",
       "   '0xa05e8480f670d04160d40e47329514378a49e551': 2.0,\n",
       "   '0x0c1502312b6f0c66f2f8dad17c7bc7cc5f9b80d1': 2.0,\n",
       "   '0xe5885bae4d3213d0bf2c2c7c9c54644864c49830': 1.0,\n",
       "   '0xff8a3fe10de652ab5b0b2a4414b5fb338079bc5c': 3.0,\n",
       "   '0x61cd47755049aba7414bbfc263467c6cea6bb2dc': 1.0,\n",
       "   '0xeb94f5607018d1f602fa7a162c3d106e460bb8c0': 1.0,\n",
       "   '0x8829e68168527ce40188d0fad8b998e61a34d02d': 1.0,\n",
       "   '0x7867b4828de16d8f3843b55a4c7427cc8c64a66b': 4.0,\n",
       "   '0x88deb162aaef58cac698cd47b02811614f74c2d9': 1.0,\n",
       "   '0x324a4257a265c24230fca7be0dfcd0075d4c01f9': 2.0,\n",
       "   '0x1c571d23d31f2b3707155ea33c638b7c690cc297': 2.0,\n",
       "   '0xd89da661e17c016999a7da42090c744c42e16f75': 1.0,\n",
       "   '0x97052c211a639fda8d2d23824edd02bc07809e19': 1.0,\n",
       "   '0xc23f0ea50d5f2bbc7bcdf27c0d625f68b4c47603': 1.0,\n",
       "   '0x8732407f23e481669e92556006805d48228713d8': 1.0}},\n",
       " [0xa798fc8fa08c120e545a1c639ebe2506ba282961 137 TG,\n",
       "  0x30d1b625663e0da48379bf8ae53455a57d406011 137 ANTCUT-70,\n",
       "  0x4502f12c1b3c304ac3a7dae71e1b091d139a7e73 137 JUDNAR-43,\n",
       "  0x03894e05af1257714d1e06a01452d157e3a82202 137 STUSHE-54,\n",
       "  0x546f3b8ad5dd18ed77820718cec56b26b8753a6c 137 TREHER-37,\n",
       "  0x70f1d5a5cf3e2a70a2169efd945cdd63e55d7b24 137 PASANG-66,\n",
       "  0x0e122f7d453e983ef0233af4e2af4cb053e5f075 137 SARBAR-22,\n",
       "  0xfe7f1a646773c4056fc7b7a847ce4034228462d4 137 QUEPOR-14,\n",
       "  0x253ca313da088b70dcfeb20fe0533745a3fefc8a 137 CONSHR-58,\n",
       "  0x7f0050fa5bdfe9388e705f56dfd79f113da1bd9a 137 AMUCOR-2,\n",
       "  0x2d8e318e7052b36e322781c68c835ed0a6c23a11 137 CALSTA-88,\n",
       "  0x434a20a2888da5f9cc7e99f94fc022220c3e648a 137 EFFCOR-3,\n",
       "  0x3ff48c6bec9824939bd4e219c8ef52b8a49821a7 137 PENORC-42,\n",
       "  0x8d86a9098e2f898552cf8bd9608c6cb80688a3d7 137 SMACOD-19,\n",
       "  0x8c57f836afc4a5fda8dd2fce53f3afe2440e3203 137 CRARAY-7,\n",
       "  0x6397829f2e9d997960fb4286531f6c8cf07a19c7 137 CHAOTT-3,\n",
       "  0x65f219fcf8c2de378f673981d2954c9eed970c61 137 PETSHE-42,\n",
       "  0xc95c557a7580632721c3147776693bc5e724900e 137 CHAOTT-3,\n",
       "  0x766055a3512570feae50b67521df0bc71a526792 137 RUMCRA-42,\n",
       "  0xaf38ed64141ee82b5e75aa40fc84e465ae7235ff 137 LACNAR-84,\n",
       "  0x105c9b7ebfff29ebcef3ebaef44c3d86a1b3e0c0 137 VOLPOR-45,\n",
       "  0xa05e8480f670d04160d40e47329514378a49e551 137 REBSEA-61,\n",
       "  0x0c1502312b6f0c66f2f8dad17c7bc7cc5f9b80d1 137 DELJEL-92,\n",
       "  0xe5885bae4d3213d0bf2c2c7c9c54644864c49830 137 CHASWO-78,\n",
       "  0xff8a3fe10de652ab5b0b2a4414b5fb338079bc5c 137 BRAPUF-29,\n",
       "  0x61cd47755049aba7414bbfc263467c6cea6bb2dc 137 TREANE-74,\n",
       "  0xeb94f5607018d1f602fa7a162c3d106e460bb8c0 137 POWCOR-35,\n",
       "  0x8829e68168527ce40188d0fad8b998e61a34d02d 137 PREANC-25,\n",
       "  0x7867b4828de16d8f3843b55a4c7427cc8c64a66b 137 CHAOTT-3,\n",
       "  0x88deb162aaef58cac698cd47b02811614f74c2d9 137 VIBLOB-14,\n",
       "  0x324a4257a265c24230fca7be0dfcd0075d4c01f9 137 STRNAR-8,\n",
       "  0x1c571d23d31f2b3707155ea33c638b7c690cc297 137 EFFSHA-16,\n",
       "  0xd89da661e17c016999a7da42090c744c42e16f75 137 MOTSEA-19,\n",
       "  0x97052c211a639fda8d2d23824edd02bc07809e19 137 CONTUN-52,\n",
       "  0xc23f0ea50d5f2bbc7bcdf27c0d625f68b4c47603 137 COMNAR-91,\n",
       "  0x8732407f23e481669e92556006805d48228713d8 137 CONFIS-73])"
      ]
     },
     "execution_count": 3,
     "metadata": {},
     "output_type": "execute_result"
    }
   ],
   "source": [
    "utils.getNFTVolumes(28931584,32993741, 137)"
   ]
  }
 ],
 "metadata": {
  "kernelspec": {
   "display_name": "Python 3.8.12 ('gvenv38')",
   "language": "python",
   "name": "python3"
  },
  "language_info": {
   "codemirror_mode": {
    "name": "ipython",
    "version": 3
   },
   "file_extension": ".py",
   "mimetype": "text/x-python",
   "name": "python",
   "nbconvert_exporter": "python",
   "pygments_lexer": "ipython3",
   "version": "3.8.12"
  },
  "orig_nbformat": 4,
  "vscode": {
   "interpreter": {
    "hash": "970acef40c1cea8404bbe3e09e936d7a989a1d41ad865e5e2a1187d71ab40b37"
   }
  }
 },
 "nbformat": 4,
 "nbformat_minor": 2
}
